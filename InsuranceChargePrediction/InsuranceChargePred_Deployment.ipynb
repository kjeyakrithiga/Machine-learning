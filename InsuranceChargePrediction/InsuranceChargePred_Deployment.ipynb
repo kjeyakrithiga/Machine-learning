{
 "cells": [
  {
   "cell_type": "code",
   "execution_count": 11,
   "id": "2238238c-1508-45c6-aed5-85e67f470d23",
   "metadata": {},
   "outputs": [],
   "source": [
    "import pickle"
   ]
  },
  {
   "cell_type": "code",
   "execution_count": 25,
   "id": "90a43684-4bd0-4ed5-a2e3-a7890ef08aaf",
   "metadata": {},
   "outputs": [],
   "source": [
    "model = pickle.load(open('RF_InsuranceChargePrediction.sav','rb'))"
   ]
  },
  {
   "cell_type": "code",
   "execution_count": 41,
   "id": "e7b8c80c-3253-485d-af39-9cc2d0105a7d",
   "metadata": {},
   "outputs": [
    {
     "name": "stdin",
     "output_type": "stream",
     "text": [
      "Enter your age 45\n",
      "Enter your sex 1 if male 0 if female 1\n",
      "Enter your bmi 28\n",
      "Enter number of children you have 4\n",
      "You are a smoker? 1 if smoker 0 if non-smoker 1\n"
     ]
    }
   ],
   "source": [
    "age = int(input(\"Enter your age\"))\n",
    "sex = input(\"Enter your sex 1 if male 0 if female\")\n",
    "bmi = int(input(\"Enter your bmi\"))\n",
    "children = int(input(\"Enter number of children you have\"))\n",
    "smoker = input(\"You are a smoker? 1 if smoker 0 if non-smoker\")"
   ]
  },
  {
   "cell_type": "code",
   "execution_count": 43,
   "id": "bf448359-d9fe-4cd4-a04e-d18f9804c0d4",
   "metadata": {},
   "outputs": [
    {
     "name": "stderr",
     "output_type": "stream",
     "text": [
      "C:\\Users\\prabh\\anaconda3\\Lib\\site-packages\\sklearn\\base.py:493: UserWarning: X does not have valid feature names, but RandomForestRegressor was fitted with feature names\n",
      "  warnings.warn(\n"
     ]
    },
    {
     "data": {
      "text/plain": [
       "array([28223.1454119])"
      ]
     },
     "execution_count": 43,
     "metadata": {},
     "output_type": "execute_result"
    }
   ],
   "source": [
    "insuranceCharges = model.predict([[age,sex,bmi,children,smoker]])\n",
    "insuranceCharges"
   ]
  },
  {
   "cell_type": "code",
   "execution_count": 45,
   "id": "b5ea0adb-d440-4c22-9a75-ecf27d94b844",
   "metadata": {},
   "outputs": [
    {
     "name": "stdin",
     "output_type": "stream",
     "text": [
      "Enter your age 22\n",
      "Enter your sex 1 if male 0 if female 0\n",
      "Enter your bmi 22\n",
      "Enter number of children you have 2\n",
      "You are a smoker? 1 if smoker 0 if non-smoker 0\n"
     ]
    }
   ],
   "source": [
    "age = int(input(\"Enter your age\"))\n",
    "sex = input(\"Enter your sex 1 if male 0 if female\")\n",
    "bmi = int(input(\"Enter your bmi\"))\n",
    "children = int(input(\"Enter number of children you have\"))\n",
    "smoker = input(\"You are a smoker? 1 if smoker 0 if non-smoker\")"
   ]
  },
  {
   "cell_type": "code",
   "execution_count": 47,
   "id": "4d20420f-4be8-46d7-a297-733417df0151",
   "metadata": {},
   "outputs": [
    {
     "name": "stderr",
     "output_type": "stream",
     "text": [
      "C:\\Users\\prabh\\anaconda3\\Lib\\site-packages\\sklearn\\base.py:493: UserWarning: X does not have valid feature names, but RandomForestRegressor was fitted with feature names\n",
      "  warnings.warn(\n"
     ]
    },
    {
     "data": {
      "text/plain": [
       "array([5495.9589748])"
      ]
     },
     "execution_count": 47,
     "metadata": {},
     "output_type": "execute_result"
    }
   ],
   "source": [
    "insuranceCharges = model.predict([[age,sex,bmi,children,smoker]])\n",
    "insuranceCharges"
   ]
  },
  {
   "cell_type": "code",
   "execution_count": null,
   "id": "06694b0c-4c61-4a3c-84e3-8f1a33fa0277",
   "metadata": {},
   "outputs": [],
   "source": []
  }
 ],
 "metadata": {
  "kernelspec": {
   "display_name": "Python [conda env:base] *",
   "language": "python",
   "name": "conda-base-py"
  },
  "language_info": {
   "codemirror_mode": {
    "name": "ipython",
    "version": 3
   },
   "file_extension": ".py",
   "mimetype": "text/x-python",
   "name": "python",
   "nbconvert_exporter": "python",
   "pygments_lexer": "ipython3",
   "version": "3.12.7"
  }
 },
 "nbformat": 4,
 "nbformat_minor": 5
}
