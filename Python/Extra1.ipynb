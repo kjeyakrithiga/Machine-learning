{
 "cells": [
  {
   "cell_type": "code",
   "execution_count": 1,
   "id": "1f23329d-5b63-45ea-8846-4040ae01f73f",
   "metadata": {},
   "outputs": [
    {
     "name": "stdout",
     "output_type": "stream",
     "text": [
      "HOPE AI\n"
     ]
    }
   ],
   "source": [
    "print(\"HOPE AI\")"
   ]
  },
  {
   "cell_type": "code",
   "execution_count": 3,
   "id": "899a7300-c3d9-4b96-b6b1-5e7682e9e1af",
   "metadata": {},
   "outputs": [
    {
     "name": "stdin",
     "output_type": "stream",
     "text": [
      "Enter your institute name? Hope\n"
     ]
    }
   ],
   "source": [
    "inst = input(\"Enter your institute name?\")"
   ]
  },
  {
   "cell_type": "code",
   "execution_count": 5,
   "id": "0420d9a3-407b-43b6-a11d-be06684c9c34",
   "metadata": {},
   "outputs": [
    {
     "name": "stdin",
     "output_type": "stream",
     "text": [
      "Enter your name:  Jeya\n",
      "Enter your age: 27\n",
      "Enter your school name: Hope\n",
      "Enter your drgree: BE\n"
     ]
    }
   ],
   "source": [
    "name = input(\"Enter your name: \")\n",
    "age = int(input(\"Enter your age:\"))\n",
    "school = input(\"Enter your school name:\")\n",
    "degree = input(\"Enter your drgree:\")"
   ]
  },
  {
   "cell_type": "code",
   "execution_count": 7,
   "id": "c0a58e7e-749a-4e64-a666-d996d9cd077c",
   "metadata": {},
   "outputs": [
    {
     "name": "stdout",
     "output_type": "stream",
     "text": [
      "77\n"
     ]
    }
   ],
   "source": [
    "a= 43\n",
    "b= 34\n",
    "add = a+b\n",
    "print(add)"
   ]
  },
  {
   "cell_type": "code",
   "execution_count": 11,
   "id": "348e0d9a-8ad6-4c22-b70c-abfd5e20d07b",
   "metadata": {},
   "outputs": [
    {
     "name": "stdout",
     "output_type": "stream",
     "text": [
      "9\n"
     ]
    }
   ],
   "source": [
    "a= 43\n",
    "b= 34\n",
    "Sub = a-b\n",
    "print(Sub)"
   ]
  },
  {
   "cell_type": "code",
   "execution_count": 15,
   "id": "04475590-fba5-4f0e-a6b9-f9a6ddcf865c",
   "metadata": {},
   "outputs": [
    {
     "name": "stdout",
     "output_type": "stream",
     "text": [
      "6111\n"
     ]
    }
   ],
   "source": [
    "a= 63\n",
    "b= 97\n",
    "Mul = a*b\n",
    "print(Mul)"
   ]
  },
  {
   "cell_type": "code",
   "execution_count": 17,
   "id": "4fc3b77c-785b-4af5-afd8-add005845860",
   "metadata": {},
   "outputs": [
    {
     "name": "stdout",
     "output_type": "stream",
     "text": [
      "2.4516129032258065\n"
     ]
    }
   ],
   "source": [
    "a= 76\n",
    "b= 31\n",
    "#Float Div = 2.4516129032258065\n",
    "Float_Div = a/b\n",
    "print(Float_Div)"
   ]
  },
  {
   "cell_type": "code",
   "execution_count": 19,
   "id": "18ce5ae1-341b-4413-b4a4-904e39fdd80e",
   "metadata": {},
   "outputs": [
    {
     "name": "stdout",
     "output_type": "stream",
     "text": [
      "2\n"
     ]
    }
   ],
   "source": [
    "a= 76\n",
    "b= 31\n",
    "#Floor Div = 2\n",
    "Floor_Div = a//b\n",
    "print(Floor_Div)"
   ]
  },
  {
   "cell_type": "code",
   "execution_count": 21,
   "id": "a0a6edcf-b2e3-4738-bc49-704f1469f17d",
   "metadata": {},
   "outputs": [
    {
     "name": "stdout",
     "output_type": "stream",
     "text": [
      "14\n"
     ]
    }
   ],
   "source": [
    "a= 76\n",
    "b= 31\n",
    "#Modulo = 14\n",
    "Modulo = a%b\n",
    "print(Modulo)"
   ]
  },
  {
   "cell_type": "code",
   "execution_count": 27,
   "id": "6e665396-22d5-4cf5-9b26-f2d186d5f853",
   "metadata": {},
   "outputs": [
    {
     "name": "stdout",
     "output_type": "stream",
     "text": [
      "256\n"
     ]
    }
   ],
   "source": [
    "a= 4\n",
    "b= 4\n",
    "#Power = 256\n",
    "Power = a**b\n",
    "print(Power)"
   ]
  },
  {
   "cell_type": "code",
   "execution_count": null,
   "id": "47daf6ab-9129-4a77-9cc1-7027e5e85d76",
   "metadata": {},
   "outputs": [],
   "source": []
  }
 ],
 "metadata": {
  "kernelspec": {
   "display_name": "Python [conda env:base] *",
   "language": "python",
   "name": "conda-base-py"
  },
  "language_info": {
   "codemirror_mode": {
    "name": "ipython",
    "version": 3
   },
   "file_extension": ".py",
   "mimetype": "text/x-python",
   "name": "python",
   "nbconvert_exporter": "python",
   "pygments_lexer": "ipython3",
   "version": "3.12.7"
  }
 },
 "nbformat": 4,
 "nbformat_minor": 5
}
