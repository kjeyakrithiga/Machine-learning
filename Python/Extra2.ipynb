{
 "cells": [
  {
   "cell_type": "code",
   "execution_count": 1,
   "id": "e2bac6dd-66c6-452b-930f-64216096c18b",
   "metadata": {},
   "outputs": [
    {
     "name": "stdout",
     "output_type": "stream",
     "text": [
      "0\n",
      "1\n",
      "2\n",
      "3\n",
      "4\n",
      "5\n",
      "6\n",
      "7\n",
      "8\n",
      "9\n",
      "10\n",
      "11\n",
      "12\n",
      "13\n",
      "14\n",
      "15\n",
      "16\n",
      "17\n",
      "18\n",
      "19\n"
     ]
    }
   ],
   "source": [
    "for i in range(0,20):\n",
    "    print(i)"
   ]
  },
  {
   "cell_type": "code",
   "execution_count": 3,
   "id": "8d9f19f2-e4be-4446-8884-45a4f0a8aba2",
   "metadata": {},
   "outputs": [
    {
     "name": "stdout",
     "output_type": "stream",
     "text": [
      "10 11 12 13 14 15 16 17 18 19 "
     ]
    }
   ],
   "source": [
    "for i in range(10,20):\n",
    "    print(i,end=\" \")"
   ]
  },
  {
   "cell_type": "code",
   "execution_count": 5,
   "id": "e55f9d06-399c-4d0f-b1cb-97c4b2d2ca4d",
   "metadata": {},
   "outputs": [
    {
     "name": "stdout",
     "output_type": "stream",
     "text": [
      "Number of item in the List2: 7\n"
     ]
    }
   ],
   "source": [
    "list1=[10, 20, 14, 55, 43, 87, 76]\n",
    "print(\"Number of item in the List2:\",len(list1))"
   ]
  },
  {
   "cell_type": "code",
   "execution_count": 7,
   "id": "60bbd49d-161d-4b7d-8aee-a3b744b71b28",
   "metadata": {},
   "outputs": [
    {
     "name": "stdout",
     "output_type": "stream",
     "text": [
      "A\n",
      "r\n",
      "t\n",
      "i\n",
      "f\n",
      "i\n",
      "c\n",
      "i\n",
      "a\n",
      "l\n",
      " \n",
      "I\n",
      "n\n",
      "t\n",
      "e\n",
      "l\n",
      "l\n",
      "i\n",
      "g\n",
      "e\n",
      "n\n",
      "c\n",
      "e\n"
     ]
    }
   ],
   "source": [
    "strInput = \"Artificial Intelligence\"\n",
    "for x in strInput:\n",
    "    print(x)"
   ]
  },
  {
   "cell_type": "code",
   "execution_count": 9,
   "id": "f5b6acbb-1933-4a78-8401-902f38ae5a58",
   "metadata": {},
   "outputs": [
    {
     "name": "stdout",
     "output_type": "stream",
     "text": [
      "1\n",
      "Welcome\n",
      "2\n",
      "Hope\n"
     ]
    }
   ],
   "source": [
    "tuple1 = (1, 'Welcome', 2, 'Hope')\n",
    "for x in tuple1:\n",
    "    print(x)"
   ]
  },
  {
   "cell_type": "code",
   "execution_count": 11,
   "id": "74ceced8-9462-49f3-a9d5-7750edf915f1",
   "metadata": {},
   "outputs": [
    {
     "name": "stdout",
     "output_type": "stream",
     "text": [
      "((0, 1, 2, 3), ('python', 'HOPE'))\n"
     ]
    }
   ],
   "source": [
    "tuple1 = (0, 1, 2, 3)\n",
    "tuple2 =  ('python', 'HOPE')\n",
    "tuple3 = (tuple1,tuple2)\n",
    "print(tuple3)"
   ]
  },
  {
   "cell_type": "code",
   "execution_count": 13,
   "id": "482ab54f-5ee1-4c64-9907-37919d9da18b",
   "metadata": {},
   "outputs": [
    {
     "name": "stdout",
     "output_type": "stream",
     "text": [
      "19  is odd\n",
      "25  is odd\n",
      "1  is odd\n"
     ]
    }
   ],
   "source": [
    "lis = (20,10,16,19,25,1,276,188)\n",
    "for i in lis:\n",
    "    if(i%2==1):\n",
    "        print(i,\" is odd\")"
   ]
  },
  {
   "cell_type": "code",
   "execution_count": 15,
   "id": "e34f7b8d-26e5-4fd6-8da8-af57c5272da4",
   "metadata": {},
   "outputs": [
    {
     "name": "stdout",
     "output_type": "stream",
     "text": [
      "20  is even\n",
      "10  is even\n",
      "16  is even\n",
      "276  is even\n",
      "188  is even\n"
     ]
    }
   ],
   "source": [
    "lis = (20,10,16,19,25,1,276,188)\n",
    "for i in lis:\n",
    "    if(i%2==0):\n",
    "        print(i,\" is even\")"
   ]
  },
  {
   "cell_type": "code",
   "execution_count": null,
   "id": "8b180171-5302-4b2a-8efd-1403ed7b80e2",
   "metadata": {},
   "outputs": [],
   "source": []
  }
 ],
 "metadata": {
  "kernelspec": {
   "display_name": "Python [conda env:base] *",
   "language": "python",
   "name": "conda-base-py"
  },
  "language_info": {
   "codemirror_mode": {
    "name": "ipython",
    "version": 3
   },
   "file_extension": ".py",
   "mimetype": "text/x-python",
   "name": "python",
   "nbconvert_exporter": "python",
   "pygments_lexer": "ipython3",
   "version": "3.12.7"
  }
 },
 "nbformat": 4,
 "nbformat_minor": 5
}
