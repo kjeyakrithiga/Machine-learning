{
 "cells": [
  {
   "cell_type": "code",
   "execution_count": 13,
   "id": "a47750ca-03f1-450c-9d22-76f94c1e306f",
   "metadata": {},
   "outputs": [
    {
     "name": "stdout",
     "output_type": "stream",
     "text": [
      "Machine Learning\n",
      "Neural Networks\n",
      "Vision\n",
      "Robotics\n",
      "Speech Processing\n",
      "Natural Language Processing\n"
     ]
    }
   ],
   "source": [
    "# Create a class and function, and list out the items in the list\n",
    "class SubfieldsInAI:\n",
    "    def Subfields():\n",
    "        lis = [\"Machine Learning\",\"Neural Networks\",\"Vision\",\"Robotics\",\"Speech Processing\",\"Natural Language Processing\"]\n",
    "        for x in lis:\n",
    "            print(x)\n",
    "SubfieldsInAI.Subfields()\n"
   ]
  },
  {
   "cell_type": "code",
   "execution_count": 17,
   "id": "93d46477-7347-4f52-88a8-792c6d9f4efc",
   "metadata": {},
   "outputs": [
    {
     "name": "stdin",
     "output_type": "stream",
     "text": [
      "Enter the number 7\n"
     ]
    },
    {
     "name": "stdout",
     "output_type": "stream",
     "text": [
      "Odd\n"
     ]
    }
   ],
   "source": [
    "# Create a function that checks whether the given number is Odd or Even\n",
    "class OddEven:\n",
    "    def OddEven():\n",
    "        num = int(input(\"Enter the number\"))\n",
    "        if(num%2==0):\n",
    "            print(\"Even\")\n",
    "        else:\n",
    "            print(\"Odd\")\n",
    "OddEven.OddEven()\n"
   ]
  },
  {
   "cell_type": "code",
   "execution_count": 25,
   "id": "1b585011-54b0-4771-9b21-4820f61192c6",
   "metadata": {},
   "outputs": [
    {
     "name": "stdin",
     "output_type": "stream",
     "text": [
      "Enter your gender Female\n",
      "Enter your age 17\n"
     ]
    },
    {
     "name": "stdout",
     "output_type": "stream",
     "text": [
      "Not Eligible\n"
     ]
    }
   ],
   "source": [
    "# Create a function that tells elegibility of marriage for male and female according to their age limit like 21 for male and 18 for female\n",
    "class EligiblityForMarriage:\n",
    "    def Eligible():\n",
    "        gender = input(\"Enter your gender\")\n",
    "        age = int(input(\"Enter your age\"))\n",
    "        if((gender==\"Male\" and age>=21) or (gender==\"Female\" and age>=18)):\n",
    "            print(\"Eligible\")\n",
    "        else:\n",
    "            print(\"Not Eligible\")\n",
    "EligiblityForMarriage.Eligible()\n"
   ]
  },
  {
   "cell_type": "code",
   "execution_count": 29,
   "id": "8fc4ffcd-a965-44b9-841f-cc4b9b0903e2",
   "metadata": {},
   "outputs": [
    {
     "name": "stdin",
     "output_type": "stream",
     "text": [
      "Enter your subject1 mark 98\n",
      "Enter your subject2 mark 87\n",
      "Enter your subject3 mark 95\n",
      "Enter your subject4 mark 95\n",
      "Enter your subject5 mark 93\n"
     ]
    },
    {
     "name": "stdout",
     "output_type": "stream",
     "text": [
      "468\n",
      "93.6\n"
     ]
    }
   ],
   "source": [
    "# calculate the percentage of your 10th mark\n",
    "class FindPercent:\n",
    "    def percentage():\n",
    "        subject1 = int(input(\"Enter your subject1 mark\"))\n",
    "        subject2 = int(input(\"Enter your subject2 mark\"))\n",
    "        subject3 = int(input(\"Enter your subject3 mark\"))\n",
    "        subject4 = int(input(\"Enter your subject4 mark\"))\n",
    "        subject5 = int(input(\"Enter your subject5 mark\"))\n",
    "        tot = subject1+subject2+subject3+subject4+subject5\n",
    "        print(tot)\n",
    "        perc = tot/5\n",
    "        return perc\n",
    "print(FindPercent.percentage())"
   ]
  },
  {
   "cell_type": "code",
   "execution_count": 31,
   "id": "b99b6297-64b7-423d-8f11-eda0202a7051",
   "metadata": {},
   "outputs": [
    {
     "name": "stdin",
     "output_type": "stream",
     "text": [
      "Enter the height 8\n",
      "Enter the breadth 8\n",
      "Enter the height1 9\n",
      "Enter the height2 2\n",
      "Enter the breadth 10\n"
     ]
    },
    {
     "name": "stdout",
     "output_type": "stream",
     "text": [
      "[32.0, 21]\n"
     ]
    }
   ],
   "source": [
    "#print area and perimeter of triangle using class and functions\n",
    "class triangle:\n",
    "    def triangle():\n",
    "        height = int(input(\"Enter the height\"))\n",
    "        breadth = int(input(\"Enter the breadth\"))\n",
    "        area = (height*breadth)/2\n",
    "        height1 = int(input(\"Enter the height1\"))\n",
    "        height2 = int(input(\"Enter the height2\"))\n",
    "        breadth = int(input(\"Enter the breadth\"))\n",
    "        perimeter = height1+height2+breadth\n",
    "        return [area,perimeter]\n",
    "print(triangle.triangle())"
   ]
  },
  {
   "cell_type": "code",
   "execution_count": null,
   "id": "7da1b636-22c4-4aa8-9a17-f1f5d28c7bf9",
   "metadata": {},
   "outputs": [],
   "source": []
  }
 ],
 "metadata": {
  "kernelspec": {
   "display_name": "Python [conda env:base] *",
   "language": "python",
   "name": "conda-base-py"
  },
  "language_info": {
   "codemirror_mode": {
    "name": "ipython",
    "version": 3
   },
   "file_extension": ".py",
   "mimetype": "text/x-python",
   "name": "python",
   "nbconvert_exporter": "python",
   "pygments_lexer": "ipython3",
   "version": "3.12.7"
  }
 },
 "nbformat": 4,
 "nbformat_minor": 5
}
